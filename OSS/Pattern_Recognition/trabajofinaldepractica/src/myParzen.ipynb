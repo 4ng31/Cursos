{
 "metadata": {
  "name": ""
 },
 "nbformat": 3,
 "nbformat_minor": 0,
 "worksheets": [
  {
   "cells": [
    {
     "cell_type": "code",
     "collapsed": false,
     "input": [
      "## Modules\n",
      "import numpy as np\n",
      "import pandas as pd\n",
      "import seaborn as sns\n",
      "from scipy import stats\n",
      "import scipy.io as spio\n",
      "from sklearn.neighbors import KNeighborsClassifier\n",
      "from sklearn import grid_search\n",
      "from sklearn import preprocessing ## Para estandarizar y normalizar\n",
      "from sklearn import cross_validation\n",
      "from sklearn.neighbors import KernelDensity\n",
      "from sklearn.decomposition import PCA\n",
      "import matplotlib as mpl\n",
      "import matplotlib.pyplot as plt\n",
      "import pylab as pl\n",
      "import random\n",
      "import math\n",
      "import operator\n",
      "import warnings\n",
      "from sklearn.cross_validation import train_test_split\n",
      "from sklearn.cross_validation import cross_val_score\n",
      "from sklearn.grid_search import GridSearchCV\n",
      "from scipy.stats import multivariate_normal\n",
      "\n",
      "def parzen_window(X_train,Y_train,X_test,BW):\n",
      "\n",
      "    Nlabels = X_train.shape[1]\n",
      "    Y_hat = np.zeros(len(X_test))\n",
      "    sigma = BW * np.eye(Nlabels, dtype=int)\n",
      "  \n",
      "    acum = 0;\n",
      "    for i in range(0,len(X_test),1):\n",
      "        for j in range(0,len(X_train),1):\n",
      "            gauss = multivariate_normal.pdf(X_test[i], X_train[j], cov=sigma)\n",
      "            if Y_train[j] == 1:\n",
      "                acum = acum+ 1*gauss\n",
      "            else:\n",
      "                acum = acum+ (-1)*gauss\n",
      "        if np.sign(acum) == np.sign(1):\n",
      "            Y_hat[i] =  1;\n",
      "        else:\n",
      "            Y_hat[i] =  2;\n",
      "    return Y_hat"
     ],
     "language": "python",
     "metadata": {},
     "outputs": []
    }
   ],
   "metadata": {}
  }
 ]
}