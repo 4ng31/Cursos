{
 "metadata": {
  "name": ""
 },
 "nbformat": 3,
 "nbformat_minor": 0,
 "worksheets": [
  {
   "cells": [
    {
     "cell_type": "code",
     "collapsed": false,
     "input": [
      "# K-nearest neighbors module\n",
      "import numpy as np\n",
      "\n",
      "def kNNClass(X_train,X_test,Y_train,Y_test,k):\n",
      "    trainSet=np.c_[ X_train, Y_train ]\n",
      "    testSet=np.c_[ X_test, Y_test ]\n",
      "    # generate predictions\n",
      "    Predictions=[]\n",
      "    for x in range(len(testSet)):\n",
      "        neighbors = getNeighbors(trainSet, testSet[x], k)\n",
      "        result = getResponse(neighbors)\n",
      "        Predictions.append(result)\n",
      "    return Predictions\n",
      "\n",
      "def euclideanDistance(instance1, instance2, length):\n",
      "\tdistance = 0\n",
      "\tfor x in range(length):\n",
      "\t\tdistance += pow((instance1[x] - instance2[x]), 2)\n",
      "\treturn math.sqrt(distance)\n",
      "\n",
      "def getNeighbors(trainingSet, testInstance, k):\n",
      "\tdistances = []\n",
      "\tlength = len(testInstance)-1\n",
      "\tfor x in range(len(trainingSet)):\n",
      "\t\tdist = euclideanDistance(testInstance, trainingSet[x], length)\n",
      "\t\tdistances.append((trainingSet[x], dist))\n",
      "\tdistances.sort(key=operator.itemgetter(1))\n",
      "\tneighbors = []\n",
      "\tfor x in range(k):\n",
      "\t\tneighbors.append(distances[x][0])\n",
      "\treturn neighbors\n",
      "\n",
      "def getResponse(neighbors):\n",
      "\tclassVotes = {}\n",
      "\tfor x in range(len(neighbors)):\n",
      "\t\tresponse = neighbors[x][-1]\n",
      "\t\tif response in classVotes:\n",
      "\t\t\tclassVotes[response] += 1\n",
      "\t\telse:\n",
      "\t\t\tclassVotes[response] = 1\n",
      "\tsortedVotes = sorted(classVotes.iteritems(), key=operator.itemgetter(1), reverse=True)\n",
      "\treturn sortedVotes[0][0]\n",
      "\n",
      "if __name__ == \"__main__\":\n",
      "    import sys\n",
      "    kNNClassClass(int(sys.argv[1]))"
     ],
     "language": "python",
     "metadata": {},
     "outputs": []
    }
   ],
   "metadata": {}
  }
 ]
}