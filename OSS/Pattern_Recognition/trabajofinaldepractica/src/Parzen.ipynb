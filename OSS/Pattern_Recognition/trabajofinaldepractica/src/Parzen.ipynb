{
 "metadata": {
  "name": ""
 },
 "nbformat": 3,
 "nbformat_minor": 0,
 "worksheets": [
  {
   "cells": [
    {
     "cell_type": "code",
     "collapsed": false,
     "input": [
      "%matplotlib inline\n",
      "## Modules\n",
      "import numpy as np\n",
      "import pandas as pd\n",
      "import seaborn as sns\n",
      "from scipy import stats\n",
      "import scipy.io as spio\n",
      "from sklearn.neighbors import KNeighborsClassifier\n",
      "from sklearn import grid_search\n",
      "from sklearn import preprocessing ## Para estandarizar y normalizar\n",
      "from sklearn import cross_validation\n",
      "from sklearn.neighbors import KernelDensity\n",
      "from sklearn.decomposition import PCA\n",
      "import matplotlib as mpl\n",
      "import matplotlib.pyplot as plt\n",
      "import pylab as pl\n",
      "import random\n",
      "import math\n",
      "import operator\n",
      "import warnings\n",
      "from sklearn.cross_validation import train_test_split\n",
      "from sklearn.cross_validation import cross_val_score\n",
      "from sklearn.grid_search import GridSearchCV\n",
      "from scipy.stats import multivariate_normal\n",
      "\n",
      "def loadDataFrame(filename):\n",
      "    ##Load data from file return dataFrame\n",
      "    mat = spio.loadmat(filename,squeeze_me=True)\n",
      "    datos = mat['datos'].tolist()\n",
      "    X=datos[0];Y=datos[1];\n",
      "    A=np.insert(X, X.shape[1], Y, axis=1)\n",
      "    idx = range(0, A.shape[0])\n",
      "    idy = list(range(0, A.shape[1]-1))\n",
      "    idy.append('label')\n",
      "    df = pd.DataFrame.from_records(A, columns=(idy), index=idx)\n",
      "    df.columns=['a','b','c','d','e','f','g','h','i','j','label']\n",
      "    return df\n",
      "\n",
      "def SplitDataFrame(data, Ntrain):\n",
      "    ## Suffle rows in DataFrame\n",
      "    dfr = data.reindex(np.random.permutation(data.index))\n",
      "    X = dfr.values[:,0:10]\n",
      "    Y = dfr.values[:,10]\n",
      "    N=X.shape[0]\n",
      "    Ntest = N - Ntrain\n",
      "    ## Normalization\n",
      "    X = preprocessing.scale(X)\n",
      "        \n",
      "    X_train, X_test, Y_train, Y_test = train_test_split(X, Y, test_size=Ntest, random_state=42)\n",
      "    return (X_train, X_test, Y_train, Y_test)\n",
      "\n",
      "def getAccuracy(X_test,Y_test, pred):\n",
      "    testSet=np.c_[ X_test, Y_test ]\n",
      "    correct = 0\n",
      "    for x in range(len(testSet)):\n",
      "        if testSet[x][-1] == pred[x]:\n",
      "            correct += 1\n",
      "    return (correct/float(len(testSet))) * 100.0\n",
      "\n",
      "def parzen_window(X_train,Y_train,X_test,BW):\n",
      "\n",
      "    Nlabels = X_train.shape[1]\n",
      "    Y_hat = np.zeros(len(X_test))\n",
      "    sigma = BW * np.eye(Nlabels, dtype=int)\n",
      "  \n",
      "    acum = 0;\n",
      "    for i in range(0,len(X_test),1):\n",
      "        for j in range(0,len(X_train),1):\n",
      "            gauss = multivariate_normal.pdf(X_test[i], X_train[j], cov=sigma)\n",
      "            if Y_train[j] == 1:\n",
      "                acum += gauss\n",
      "            else:\n",
      "                acum -= gauss\n",
      "        if np.sign(acum) == np.sign(1):\n",
      "            Y_hat[i] =  1;\n",
      "        else:\n",
      "            Y_hat[i] =  2;\n",
      "    return Y_hat\n",
      "\n",
      "def main():\n",
      "    # Get Data\n",
      "    filename='/home/bgx/trabajofinaldeprctica/datosOS14.mat'\n",
      "    DF_data=loadDataFrame(filename)\n",
      "\n",
      "    ## Sample train SIZE\n",
      "    SIZE=80\n",
      "\n",
      "    ## Get Xtrain, Xtest, Ytrain, Ytest\n",
      "    Xtrain,Xtest,Ytrain,Ytest=SplitDataFrame(DF_data, SIZE)    \n",
      "    \n",
      "    bw=0.46\n",
      "    \n",
      "    ## K optimo usando el TrainSet\n",
      "    X=Xtrain\n",
      "    Y=Ytrain\n",
      "    kf_total = cross_validation.KFold(len(X), n_folds=10, shuffle=True, random_state=8)\n",
      "    for train, test in kf_total:\n",
      "        ## Test Classifier Over KFold\n",
      "        pred=[]\n",
      "        Yhat = parzen_window(X[train],Y[train],X[test],bw)\n",
      "        accuracy = getAccuracy(X[test],Y[test], Yhat)\n",
      "        print('Accuracy: ' + repr(accuracy) + '%')\n",
      "        #The more training samples we have in the the training dataset, roughly speaking, \n",
      "        #the more accurate the estimation becomes (Central limit theorem) since we reduce \n",
      "        #the likelihood of encountering a sparsity of points for local regions - assuming \n",
      "        #that our training samples are i.i.d (independently drawn and identically distributed). \n",
      "    #Yhat = parzen_window(Xtrain,Ytrain,Xtest,bw)\n",
      "    ## Results\n",
      "    #print Yhat\n",
      "    #accuracy = getAccuracy(Xtest,Ytest, Yhat)\n",
      "    #print('Accuracy: ' + repr(accuracy) + '%')\n",
      "\n",
      "    \n",
      "main()"
     ],
     "language": "python",
     "metadata": {},
     "outputs": [
      {
       "output_type": "stream",
       "stream": "stdout",
       "text": [
        "Accuracy: 50.0%\n",
        "Accuracy: 62.5%"
       ]
      },
      {
       "output_type": "stream",
       "stream": "stdout",
       "text": [
        "\n",
        "Accuracy: 75.0%"
       ]
      },
      {
       "output_type": "stream",
       "stream": "stdout",
       "text": [
        "\n",
        "Accuracy: 75.0%"
       ]
      },
      {
       "output_type": "stream",
       "stream": "stdout",
       "text": [
        "\n",
        "Accuracy: 87.5%"
       ]
      },
      {
       "output_type": "stream",
       "stream": "stdout",
       "text": [
        "\n",
        "Accuracy: 87.5%"
       ]
      },
      {
       "output_type": "stream",
       "stream": "stdout",
       "text": [
        "\n",
        "Accuracy: 75.0%"
       ]
      },
      {
       "output_type": "stream",
       "stream": "stdout",
       "text": [
        "\n",
        "Accuracy: 87.5%"
       ]
      },
      {
       "output_type": "stream",
       "stream": "stdout",
       "text": [
        "\n",
        "Accuracy: 87.5%"
       ]
      },
      {
       "output_type": "stream",
       "stream": "stdout",
       "text": [
        "\n",
        "Accuracy: 75.0%"
       ]
      },
      {
       "output_type": "stream",
       "stream": "stdout",
       "text": [
        "\n"
       ]
      }
     ],
     "prompt_number": 13
    },
    {
     "cell_type": "code",
     "collapsed": false,
     "input": [],
     "language": "python",
     "metadata": {},
     "outputs": [],
     "prompt_number": 1
    },
    {
     "cell_type": "code",
     "collapsed": false,
     "input": [],
     "language": "python",
     "metadata": {},
     "outputs": [],
     "prompt_number": 4
    },
    {
     "cell_type": "code",
     "collapsed": false,
     "input": [],
     "language": "python",
     "metadata": {},
     "outputs": []
    }
   ],
   "metadata": {}
  }
 ]
}