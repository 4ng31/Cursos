{
 "metadata": {
  "name": ""
 },
 "nbformat": 3,
 "nbformat_minor": 0,
 "worksheets": [
  {
   "cells": [
    {
     "cell_type": "code",
     "collapsed": false,
     "input": [
      "import pandas as pd\n",
      "\n",
      "import matplotlib.pyplot as plt\n",
      "from sklearn.cross_validation import train_test_split\n",
      "from sklearn import preprocessing\n",
      "from sklearn.decomposition import PCA\n",
      "\n",
      "\n",
      "df = pd.io.parsers.read_csv(\n",
      "    'https://raw.githubusercontent.com/rasbt/pattern_classification/master/data/wine_data.csv',\n",
      "    header=None,\n",
      "    )\n",
      "\n",
      "X_wine = df.values[:,1:]\n",
      "y_wine = df.values[:,0]\n",
      "\n",
      "print y_wine\n",
      "\n",
      "X_train, X_test, y_train, y_test = train_test_split(X_wine, y_wine,\n",
      "    test_size=0.30, random_state=12345)\n",
      "\n",
      "std_scale = preprocessing.StandardScaler().fit(X_train)\n",
      "X_train_std = std_scale.transform(X_train)\n",
      "X_test_std = std_scale.transform(X_test)\n",
      "\n",
      "# on non-standardized data\n",
      "pca = PCA(n_components=2).fit(X_train)\n",
      "X_train = pca.transform(X_train)\n",
      "X_test = pca.transform(X_test)\n",
      "\n",
      "# on standardized data\n",
      "pca_std = PCA(n_components=2).fit(X_train_std)\n",
      "X_train_std = pca_std.transform(X_train_std)\n",
      "X_test_std = pca_std.transform(X_test_std)\n",
      "\n",
      "\n",
      "fig, (ax1, ax2) = plt.subplots(ncols=2, figsize=(10,4))\n",
      "\n",
      "\n",
      "for l,c,m in zip(range(1,4), ('blue', 'red', 'green'), ('^', 's', 'o')):\n",
      "    ax1.scatter(X_train[y_train==l, 0], X_train[y_train==l, 1],\n",
      "        color=c,\n",
      "        label='class %s' %l,\n",
      "        alpha=0.5,\n",
      "        marker=m\n",
      "        )\n",
      "\n",
      "for l,c,m in zip(range(1,4), ('blue', 'red', 'green'), ('^', 's', 'o')):\n",
      "    ax2.scatter(X_train_std[y_train==l, 0], X_train_std[y_train==l, 1],\n",
      "        color=c,\n",
      "        label='class %s' %l,\n",
      "        alpha=0.5,\n",
      "        marker=m\n",
      "        )\n",
      "\n",
      "ax1.set_title('Transformed NON-standardized training dataset after PCA')\n",
      "ax2.set_title('Transformed standardized training dataset after PCA')\n",
      "\n",
      "for ax in (ax1, ax2):\n",
      "\n",
      "    ax.set_xlabel('1st principal component')\n",
      "    ax.set_ylabel('2nd principal component')\n",
      "    ax.legend(loc='upper right')\n",
      "    ax.grid()\n",
      "plt.tight_layout()\n",
      "\n",
      "plt.show()"
     ],
     "language": "python",
     "metadata": {},
     "outputs": [
      {
       "output_type": "stream",
       "stream": "stdout",
       "text": [
        "[ 1.  1.  1.  1.  1.  1.  1.  1.  1.  1.  1.  1.  1.  1.  1.  1.  1.  1.\n",
        "  1.  1.  1.  1.  1.  1.  1.  1.  1.  1.  1.  1.  1.  1.  1.  1.  1.  1.\n",
        "  1.  1.  1.  1.  1.  1.  1.  1.  1.  1.  1.  1.  1.  1.  1.  1.  1.  1.\n",
        "  1.  1.  1.  1.  1.  2.  2.  2.  2.  2.  2.  2.  2.  2.  2.  2.  2.  2.\n",
        "  2.  2.  2.  2.  2.  2.  2.  2.  2.  2.  2.  2.  2.  2.  2.  2.  2.  2.\n",
        "  2.  2.  2.  2.  2.  2.  2.  2.  2.  2.  2.  2.  2.  2.  2.  2.  2.  2.\n",
        "  2.  2.  2.  2.  2.  2.  2.  2.  2.  2.  2.  2.  2.  2.  2.  2.  2.  2.\n",
        "  2.  2.  2.  2.  3.  3.  3.  3.  3.  3.  3.  3.  3.  3.  3.  3.  3.  3.\n",
        "  3.  3.  3.  3.  3.  3.  3.  3.  3.  3.  3.  3.  3.  3.  3.  3.  3.  3.\n",
        "  3.  3.  3.  3.  3.  3.  3.  3.  3.  3.  3.  3.  3.  3.  3.  3.]\n"
       ]
      }
     ],
     "prompt_number": 2
    },
    {
     "cell_type": "code",
     "collapsed": false,
     "input": [],
     "language": "python",
     "metadata": {},
     "outputs": [],
     "prompt_number": 7
    },
    {
     "cell_type": "code",
     "collapsed": false,
     "input": [],
     "language": "python",
     "metadata": {},
     "outputs": []
    }
   ],
   "metadata": {}
  }
 ]
}